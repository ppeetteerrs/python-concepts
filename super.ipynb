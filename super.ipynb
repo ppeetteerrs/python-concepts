{
 "cells": [
  {
   "cell_type": "markdown",
   "source": [
    "# Method Resolution Order\n",
    "\n",
    "The MRO tells Python how to search for inherited methods."
   ],
   "metadata": {}
  },
  {
   "cell_type": "code",
   "execution_count": 11,
   "source": [
    "from typing import Type, TypeVar\n",
    "\n",
    "_T = TypeVar(\"_T\")\n",
    "\n",
    "class GrandParent1:\n",
    "\n",
    "    def __new__(cls: Type[_T]) -> _T:\n",
    "        print(\"GrandParent1.__new__\", end=\" \")\n",
    "        return super().__new__(cls)\n",
    "\n",
    "    def __init__(self) -> None:\n",
    "        print(\"GrandParent1.__init__\", end=\" \")\n",
    "    \n",
    "    def who(self) -> None:\n",
    "        print(\"GrandParent1\")\n",
    "\n",
    "\n",
    "class GrandParent2:\n",
    "\n",
    "    def __new__(cls: Type[_T]) -> _T:\n",
    "        print(\"GrandParent2.__new__\", end=\" \")\n",
    "        return super().__new__(cls)\n",
    "\n",
    "    def __init__(self) -> None:\n",
    "        print(\"GrandParent2.__init__\", end=\" \")\n",
    "    \n",
    "    def who(self) -> None:\n",
    "        print(\"GrandParent2\")\n",
    "\n",
    "class Parent1(GrandParent1):\n",
    "\n",
    "    def __new__(cls: Type[_T]) -> _T:\n",
    "        print(\"Parent1.__new__\", end=\" \")\n",
    "        return super().__new__(cls)\n",
    "\n",
    "    def __init__(self) -> None:\n",
    "        print(\"Parent1.__init__\", end=\" \")\n",
    "    \n",
    "    def who(self) -> None:\n",
    "        print(\"Parent1\")\n",
    "\n",
    "\n",
    "class Parent2(GrandParent2):\n",
    "\n",
    "    def __new__(cls: Type[_T]) -> _T:\n",
    "        print(\"Parent2.__new__\", end=\" \")\n",
    "        return super().__new__(cls)\n",
    "\n",
    "    def __init__(self) -> None:\n",
    "        print(\"Parent2.__init__\", end=\" \")\n",
    "    \n",
    "    def who(self) -> None:\n",
    "        print(\"Parent1\")\n",
    "\n",
    "class Child(Parent1, Parent2):\n",
    "    def __init__(self) -> None:\n",
    "        super().__init__()\n",
    "        print(\"\")\n",
    "    \n",
    "    def superwho(self) -> None:\n",
    "        super().who()"
   ],
   "outputs": [],
   "metadata": {}
  },
  {
   "cell_type": "code",
   "execution_count": 12,
   "source": [
    "print(Child.__mro__)\n",
    "child = Child()\n",
    "child.superwho()"
   ],
   "outputs": [
    {
     "output_type": "stream",
     "name": "stdout",
     "text": [
      "(<class '__main__.Child'>, <class '__main__.Parent1'>, <class '__main__.GrandParent1'>, <class '__main__.Parent2'>, <class '__main__.GrandParent2'>, <class 'object'>)\n",
      "Parent1.__new__ GrandParent1.__new__ Parent2.__new__ GrandParent2.__new__ Parent1.__init__ \n",
      "Parent1\n"
     ]
    }
   ],
   "metadata": {}
  },
  {
   "cell_type": "code",
   "execution_count": null,
   "source": [],
   "outputs": [],
   "metadata": {}
  }
 ],
 "metadata": {
  "orig_nbformat": 4,
  "language_info": {
   "name": "python",
   "version": "3.10.0",
   "mimetype": "text/x-python",
   "codemirror_mode": {
    "name": "ipython",
    "version": 3
   },
   "pygments_lexer": "ipython3",
   "nbconvert_exporter": "python",
   "file_extension": ".py"
  },
  "kernelspec": {
   "name": "python3",
   "display_name": "Python 3.10.0 64-bit ('python-concepts': conda)"
  },
  "interpreter": {
   "hash": "8444b71a3ea1ac1b9b37ea2f02bae72b51c2b43814880f63111d7870e1f5d243"
  }
 },
 "nbformat": 4,
 "nbformat_minor": 2
}