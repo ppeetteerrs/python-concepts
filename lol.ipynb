{
 "cells": [
  {
   "cell_type": "code",
   "execution_count": null,
   "source": [],
   "outputs": [],
   "metadata": {}
  }
 ],
 "metadata": {
  "orig_nbformat": 4,
  "language_info": {
   "name": "python",
   "version": "3.10.0"
  },
  "kernelspec": {
   "name": "python3",
   "display_name": "Python 3.10.0 64-bit ('python-concepts': conda)"
  },
  "interpreter": {
   "hash": "8444b71a3ea1ac1b9b37ea2f02bae72b51c2b43814880f63111d7870e1f5d243"
  }
 },
 "nbformat": 4,
 "nbformat_minor": 2
}